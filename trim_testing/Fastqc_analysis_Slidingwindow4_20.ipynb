{
 "cells": [
  {
   "cell_type": "markdown",
   "metadata": {},
   "source": [
    "# Fastqc Analysis: Slidingwindow4_20\n",
    "\n",
    "## Author: Håkon Kaspersen\n",
    "## Last updated: 16.08.2018\n",
    "\n",
    "### This Notebook is used for visualizing fastqc-reports from multiple read sets.\n",
    "\n",
    "### Load libraries"
   ]
  },
  {
   "cell_type": "code",
   "execution_count": 1,
   "metadata": {},
   "outputs": [
    {
     "name": "stdout",
     "output_type": "stream",
     "text": [
      "package 'pacman' successfully unpacked and MD5 sums checked\n",
      "\n",
      "The downloaded binary packages are in\n",
      "\tC:\\Users\\VI1511\\AppData\\Local\\Temp\\RtmpMvWvRT\\downloaded_packages\n"
     ]
    }
   ],
   "source": [
    "install.packages(\"pacman\", repos = \"http://cran.us.r-project.org\")\n",
    "pacman::p_load(fastqcr,dplyr,ggplot2,tidyr,viridis,ggsci,scales,svglite) "
   ]
  },
  {
   "cell_type": "markdown",
   "metadata": {},
   "source": [
    "### Specify input directory\n",
    "##### Please specify the location of your fastqc.zip files.\n",
    "##### Note: Specify the location of the folder holding the files. If the fastqc.zip files are located in multiple folders (for instance for grouping purposes), please specify the path to the directory holding all the folders. Also note that R use \"/\" and not \"\\\" to specify folders, if copy-pasted from windows, please change to \"/\"."
   ]
  },
  {
   "cell_type": "code",
   "execution_count": 2,
   "metadata": {},
   "outputs": [],
   "source": [
    "input_dir <- \"D:/R_Data/fastqc/fastqc_trim_testing/Slidingwindow4_20/\""
   ]
  },
  {
   "cell_type": "markdown",
   "metadata": {},
   "source": [
    "### Load functions\n",
    "##### This activates all the functions used in this notebook."
   ]
  },
  {
   "cell_type": "code",
   "execution_count": 3,
   "metadata": {},
   "outputs": [],
   "source": [
    "# Function that lists all the file names in the input folder\n",
    "file_names <- function(filepath, folder) {\n",
    "  files <- list.files(path = paste0(filepath, \"/\", folder), pattern = \"_fastqc.zip\")\n",
    "  return(files)\n",
    "}\n",
    "\n",
    "# Function that searches recursively for all filenames with fastqc.zip\n",
    "file_names_recursive <- function(filepath) {\n",
    "  files <- list.files(path = filepath, pattern = \"_fastqc.zip\", recursive = TRUE)\n",
    "  return(files)\n",
    "}\n",
    "\n",
    "# Lists folders in the input folder\n",
    "folder_names <- function(filepath) {\n",
    "  folders <- list.files(path = filepath)\n",
    "  return(folders)\n",
    "}\n",
    "\n",
    "# Identifies the names of the files and groups them accoring to their respective folders\n",
    "get_grouping_variable <- function(path, folder) {\n",
    "  files <- file_names(path, folder)\n",
    "  df <- data.frame(files = files, group = folder, stringsAsFactors = FALSE)\n",
    "  df$files <- gsub(\"(.*?)_fastqc.zip\", \"\\\\1\", df$files)\n",
    "  colnames(df) <- c(\"ref\",\"group\")\n",
    "  return(df)\n",
    "}\n",
    "\n",
    "# Creates a data frame with grouping information of the reports\n",
    "create_group_df <- function(path) {\n",
    "  folders <- folder_names(path)\n",
    "  if (length(folders) > 1) {\n",
    "    df <- lapply(folders, function(folder) get_grouping_variable(path, folder))\n",
    "    df <- bind_rows(df)\n",
    "  } else {\n",
    "    df <- get_grouping_variable(path, folders)\n",
    "  }\n",
    "  return(df)\n",
    "}\n",
    "\n",
    "# Function that filter out duplicated counts\n",
    "filter_counts <- function(df) {\n",
    "  df <- df %>%\n",
    "    mutate(dupl = duplicated(Count)) %>%\n",
    "    filter(dupl == FALSE)\n",
    "  return(df)\n",
    "}\n",
    "\n",
    "# Function that prepares the sequence length data for plotting\n",
    "prepare_seq_len_data <- function(list) {\n",
    "  x <- split(list$sequence_length_distribution, list$sequence_length_distribution$group)\n",
    "  x <- lapply(x, filter_counts)\n",
    "  x <- bind_rows(x)\n",
    "  return(x)\n",
    "}\n",
    "\n",
    "# Function that imports and wrangles fastqc data\n",
    "get_fastqc_data <- function(filepath) {\n",
    "  folders <- folder_names(filepath)\n",
    "  \n",
    "  get_files <- file_names_recursive(filepath)\n",
    "  \n",
    "  data_list <- lapply(get_files,\n",
    "                      FUN = function(file) {\n",
    "                        qc_read(paste0(filepath, \"/\", file),\n",
    "                                modules = \"all\",\n",
    "                                verbose = FALSE)\n",
    "                      })\n",
    "  names(data_list) <- gsub(\"(.*?)/(.*?)_fastqc.zip\", \"\\\\2\", get_files)\n",
    "  data_list <- purrr::transpose(data_list)\n",
    "  \n",
    "  data_list$sequence_length_distribution <- NULL\n",
    "  data_list$kmer_content <- NULL\n",
    "  \n",
    "  list_names <- names(data_list)\n",
    "  list_numbers <- 1:length(list_names)\n",
    "  for (i in list_numbers) {\n",
    "    assign(list_names[i], bind_rows(data_list[[i]], .id = \"ref\"))\n",
    "  }\n",
    "  df_list <- list(summary,\n",
    "                  basic_statistics,\n",
    "                  per_base_sequence_quality,\n",
    "                  per_tile_sequence_quality,\n",
    "                  per_sequence_quality_scores,\n",
    "                  per_base_sequence_content,\n",
    "                  per_sequence_gc_content,\n",
    "                  per_base_n_content,\n",
    "                  sequence_duplication_levels,\n",
    "                  overrepresented_sequences,\n",
    "                  adapter_content,\n",
    "                  total_deduplicated_percentage)\n",
    "  names(df_list) <- list_names\n",
    "  df_list$basic_statistics <- df_list$basic_statistics %>%\n",
    "    spread(Measure,Value) %>%\n",
    "    left_join(group_df, by = \"ref\")\n",
    "  return(df_list)\n",
    "}"
   ]
  },
  {
   "cell_type": "markdown",
   "metadata": {},
   "source": [
    "### Create grouping data frame\n",
    "##### This function creates a data frame with the grouping information of the files, based on the folder names that hold them. Each file is specified a group name based on the folder they are in. This information is used to specify each group of files in the plots below.\n",
    "##### Note: No changes should be made from here on!"
   ]
  },
  {
   "cell_type": "code",
   "execution_count": 4,
   "metadata": {},
   "outputs": [],
   "source": [
    "group_df <- create_group_df(input_dir)"
   ]
  },
  {
   "cell_type": "markdown",
   "metadata": {},
   "source": [
    "### Import data\n",
    "##### This function imports the data from the location specified in the \"input_dir\" above."
   ]
  },
  {
   "cell_type": "code",
   "execution_count": 5,
   "metadata": {},
   "outputs": [],
   "source": [
    "df_list <- get_fastqc_data(input_dir)"
   ]
  },
  {
   "cell_type": "markdown",
   "metadata": {},
   "source": [
    "### Adapter content\n",
    "##### This plot presents the adapter content for all sequences in each group. Each adapter type is specified by color. The X-axis represents the read positions, where the left side represents the start of the read and the right side the end."
   ]
  },
  {
   "cell_type": "code",
   "execution_count": 6,
   "metadata": {},
   "outputs": [
    {
     "data": {},
     "metadata": {},
     "output_type": "display_data"
    },
    {
     "data": {
      "image/png": "[encoded data removed]",
      "text/plain": [
       "plot without title"
      ]
     },
     "metadata": {},
     "output_type": "display_data"
    }
   ],
   "source": [
    "df_list$adapter_content %>%\n",
    "    # import information from another data frame from same list,\n",
    "    # to get grouping information etc.\n",
    "    left_join(., df_list$basic_statistics[, c(\"ref\", \"Sequence length\", \"group\")], by = \"ref\") %>%\n",
    "    rename(seqlen = \"Sequence length\") %>%\n",
    "    # get data ready for boxplot by gathering the columns into two columns\n",
    "    gather(key,\n",
    "           value, -c(ref,\n",
    "                     Position,\n",
    "                     group,\n",
    "                     seqlen)) %>%\n",
    "    # plotting\n",
    "    ggplot(aes(factor(\n",
    "      Position,\n",
    "      levels = unique(Position),\n",
    "      ordered = TRUE\n",
    "    ), value, color = key)) +\n",
    "    # specifies the ends of the boxplot as errorbars\n",
    "    stat_boxplot(geom = \"errorbar\", width = 0.4) +\n",
    "    geom_boxplot(outlier.size = 0.5) +\n",
    "    labs(\n",
    "      x = \"Position in Read\",\n",
    "      y = \"Percent (%) Adapter Content\",\n",
    "      color = NULL,\n",
    "      title = \"Adapter content\"\n",
    "    ) +\n",
    "    scale_colour_jama() +\n",
    "    scale_y_continuous(limits = c(0, 20)) +\n",
    "    theme_classic() +\n",
    "    theme(\n",
    "      axis.text.x = element_blank(),\n",
    "      axis.ticks.x = element_blank(),\n",
    "      legend.position = \"bottom\"\n",
    "    ) +\n",
    "    # creates separate windows for each group\n",
    "    facet_wrap(~ group, scales = \"free\", dir = \"v\")"
   ]
  },
  {
   "cell_type": "markdown",
   "metadata": {},
   "source": [
    "### Per base sequence content\n",
    "##### This plot presents the per base sequence content for all reads in each group. Each base is represented by color. "
   ]
  },
  {
   "cell_type": "code",
   "execution_count": 7,
   "metadata": {},
   "outputs": [
    {
     "data": {},
     "metadata": {},
     "output_type": "display_data"
    },
    {
     "data": {
      "image/png": "[encoded data removed]",
      "text/plain": [
       "plot without title"
      ]
     },
     "metadata": {},
     "output_type": "display_data"
    }
   ],
   "source": [
    "df_list$per_base_sequence_content %>%\n",
    "    # import information from another data frame from same list,\n",
    "    # to get grouping information etc.\n",
    "    left_join(., df_list$basic_statistics[, c(\"ref\", \"Sequence length\", \"group\")], by = \"ref\") %>%\n",
    "    rename(seqlen = \"Sequence length\") %>%\n",
    "    gather(key, value, -c(ref, Base, group, seqlen)) %>%\n",
    "    ggplot(aes(factor(\n",
    "      Base, levels = unique(Base), ordered = TRUE\n",
    "    ), value, color = key)) +\n",
    "    # specifies the ends of the boxplot as errorbars\n",
    "    stat_boxplot(geom = \"errorbar\", width = 0.4) +\n",
    "    geom_boxplot(outlier.size = 0.5) +\n",
    "    labs(\n",
    "      x = \"Position in Read\",\n",
    "      y = \"Percent (%)\",\n",
    "      color = NULL,\n",
    "      title = \"Per base sequence content\"\n",
    "    ) +\n",
    "    theme_classic() +\n",
    "    scale_color_jama() +\n",
    "    theme(\n",
    "      axis.text.x = element_blank(),\n",
    "      axis.ticks.x = element_blank(),\n",
    "      legend.position = \"bottom\"\n",
    "    ) +\n",
    "    # creates separate windows for each group\n",
    "    facet_wrap( ~ group, scales = \"free\", dir = \"v\")"
   ]
  },
  {
   "cell_type": "markdown",
   "metadata": {},
   "source": [
    "### Sequence duplication levels\n",
    "##### This plot presents the duplication levels for all reads in each group. The X-axis contain \"bins\" of different duplication levels, and the number is a representation of how many of the same read is present. For example, the bin \"3\" represents the reads that have triplicates in the file. "
   ]
  },
  {
   "cell_type": "code",
   "execution_count": 8,
   "metadata": {},
   "outputs": [
    {
     "data": {},
     "metadata": {},
     "output_type": "display_data"
    },
    {
     "data": {
      "image/png": "[encoded data removed]",
      "text/plain": [
       "plot without title"
      ]
     },
     "metadata": {},
     "output_type": "display_data"
    }
   ],
   "source": [
    "df_list$sequence_duplication_levels %>%\n",
    "    # import information from another data frame from same list,\n",
    "    # to get grouping information etc.\n",
    "    left_join(., df_list$basic_statistics[, c(\"ref\", \"Sequence length\", \"group\")], by = \"ref\") %>%\n",
    "    rename(seqlen = \"Sequence length\") %>%\n",
    "    gather(key, value, -c(ref, `Duplication Level`, group, seqlen)) %>%\n",
    "    ggplot(aes(\n",
    "      factor(\n",
    "        `Duplication Level`,\n",
    "        levels = unique(`Duplication Level`),\n",
    "        ordered = TRUE\n",
    "      ),\n",
    "      value,\n",
    "      fill = key\n",
    "    )) +\n",
    "    # specifies the ends of the boxplot as errorbars\n",
    "    stat_boxplot(geom = \"errorbar\", width = 0.4) +\n",
    "    geom_boxplot(outlier.size = 0.5) +\n",
    "    scale_fill_manual(values = c(\"#ef8a62\",\n",
    "                                 \"#67a9cf\")) +\n",
    "    theme_classic() +\n",
    "    labs(x = \"Duplication Level\",\n",
    "         y = \"Percent (%) of Sequences\",\n",
    "         fill = NULL,\n",
    "         title = \"Sequence duplication levels\") +\n",
    "    theme(legend.position = \"bottom\",\n",
    "          axis.text.x = element_text(\n",
    "            angle = 90,\n",
    "            hjust = 1,\n",
    "            vjust = 0.4\n",
    "          )) +\n",
    "    # creates separate windows for each group\n",
    "    facet_wrap( ~ group, scales = \"free\")"
   ]
  },
  {
   "cell_type": "markdown",
   "metadata": {},
   "source": [
    "### Sequence quality scores\n",
    "##### This plot presents the sequence quality scores for all reads in each group. The X-axis represent the phred-score for each read, and the y-axis represent the amount of reads per phred-score. Higher score is better."
   ]
  },
  {
   "cell_type": "code",
   "execution_count": 9,
   "metadata": {},
   "outputs": [
    {
     "data": {},
     "metadata": {},
     "output_type": "display_data"
    },
    {
     "data": {
      "image/png": "[encoded data removed]",
      "text/plain": [
       "plot without title"
      ]
     },
     "metadata": {},
     "output_type": "display_data"
    }
   ],
   "source": [
    "df_list$per_sequence_quality_scores %>%\n",
    "    # import information from another data frame from same list,\n",
    "    # to get grouping information etc.\n",
    "    left_join(., df_list$basic_statistics[, c(\"ref\", \"Sequence length\", \"group\")], by = \"ref\") %>%\n",
    "    rename(seqlen = \"Sequence length\") %>%\n",
    "    ggplot(aes(factor(Quality), Count, fill = factor(Quality))) +\n",
    "    # specifies the ends of the boxplot as errorbars\n",
    "    stat_boxplot(geom = \"errorbar\", width = 0.4) +\n",
    "    geom_boxplot(outlier.size = 0.5) +\n",
    "    scale_y_continuous(labels = comma) +\n",
    "    scale_x_discrete(breaks = c(0, 5, 10, 15, 20, 25, 30, 35, 40)) +\n",
    "    scale_fill_viridis(discrete = TRUE) +\n",
    "    labs(x = \"Quality\",\n",
    "         y = \"Number of reads\",\n",
    "         title = \"Per sequence quality scores\") +\n",
    "    guides(fill = FALSE) +\n",
    "    theme_classic() +\n",
    "    theme(axis.text.x = element_text(size = 10)) +\n",
    "    # creates separate windows for each group\n",
    "    facet_wrap( ~ group)"
   ]
  },
  {
   "cell_type": "markdown",
   "metadata": {},
   "source": [
    "### Per sequence GC content\n",
    "##### This plot presents the % GC-content for all reads in each group."
   ]
  },
  {
   "cell_type": "code",
   "execution_count": 10,
   "metadata": {},
   "outputs": [
    {
     "data": {},
     "metadata": {},
     "output_type": "display_data"
    },
    {
     "data": {
      "image/png": "[encoded data removed]",
      "text/plain": [
       "plot without title"
      ]
     },
     "metadata": {},
     "output_type": "display_data"
    }
   ],
   "source": [
    "df_list$per_sequence_gc_content %>%\n",
    "    # import information from another data frame from same list,\n",
    "    # to get grouping information etc.\n",
    "    left_join(., df_list$basic_statistics[, c(\"ref\", \"Sequence length\", \"group\")], by = \"ref\") %>%\n",
    "    rename(seqlen = \"Sequence length\") %>%\n",
    "    ggplot(aes(factor(`GC Content`), Count)) +\n",
    "    # specifies the ends of the boxplot as errorbars\n",
    "    stat_boxplot(geom = \"errorbar\", width = 0.4) +\n",
    "    geom_boxplot(outlier.size = 0.5) +\n",
    "    labs(x = \"GC content (%)\",\n",
    "         y = \"Number of reads\",\n",
    "         title = \"Per sequence GC content\") +\n",
    "    scale_y_continuous(labels = comma) +\n",
    "    scale_x_discrete(breaks = as.character(seq(\n",
    "      from = 0, to = 100, by = 10\n",
    "    ))) +\n",
    "    theme_classic() +\n",
    "    # creates separate windows for each group\n",
    "    facet_wrap( ~ group, scales = \"free\")"
   ]
  },
  {
   "cell_type": "markdown",
   "metadata": {},
   "source": [
    "### Per base N content\n",
    "##### This plot presents the per base N content for all reads in each group. N's are added to the read instead of a base if the sequencer is unable to do the base call with sufficient confidence. As before , the X-axis represents the position in the read, where left is the start of the read and right is the end."
   ]
  },
  {
   "cell_type": "code",
   "execution_count": 11,
   "metadata": {},
   "outputs": [
    {
     "data": {},
     "metadata": {},
     "output_type": "display_data"
    },
    {
     "data": {
      "image/png": "[encoded data removed]",
      "text/plain": [
       "plot without title"
      ]
     },
     "metadata": {},
     "output_type": "display_data"
    }
   ],
   "source": [
    "df_list$per_base_n_content %>%\n",
    "    # import information from another data frame from same list,\n",
    "    # to get grouping information etc.\n",
    "    left_join(., df_list$basic_statistics[, c(\"ref\", \"Sequence length\", \"group\")], by = \"ref\") %>%\n",
    "    rename(seqlen = \"Sequence length\") %>%\n",
    "    ggplot(aes(factor(\n",
    "      Base, levels = unique(Base), ordered = TRUE\n",
    "    ), `N-Count`)) +\n",
    "    # specifies the ends of the boxplot as errorbars\n",
    "    stat_boxplot(geom = \"errorbar\", width = 0.4) +\n",
    "    geom_boxplot(fill = \"#e6e6e6\",\n",
    "                 outlier.size = 0.5) +\n",
    "    labs(x = \"Position in read\",\n",
    "         title = \"Per base N content\") +\n",
    "    guides(fill = FALSE) +\n",
    "    theme_classic() +\n",
    "    theme(axis.text.x = element_blank(),\n",
    "          axis.ticks.x = element_blank()) +\n",
    "    # creates separate windows for each group\n",
    "    facet_wrap( ~ group, scales = \"free\", dir = \"v\")"
   ]
  },
  {
   "cell_type": "markdown",
   "metadata": {},
   "source": [
    "### Total deduplicated percentage\n",
    "##### This plot presents the total deduplicated percentage for all reads in each group."
   ]
  },
  {
   "cell_type": "code",
   "execution_count": 12,
   "metadata": {},
   "outputs": [
    {
     "name": "stderr",
     "output_type": "stream",
     "text": [
      "Warning message:\n",
      "\"package 'bindrcpp' was built under R version 3.4.4\""
     ]
    },
    {
     "data": {},
     "metadata": {},
     "output_type": "display_data"
    },
    {
     "data": {
      "image/png": "[encoded data removed]",
      "text/plain": [
       "plot without title"
      ]
     },
     "metadata": {},
     "output_type": "display_data"
    }
   ],
   "source": [
    "df_list$total_deduplicated_percentage %>%\n",
    "    gather(key = \"ref\", value = `1`) %>%\n",
    "    # import information from another data frame from same list,\n",
    "    # to get grouping information etc.\n",
    "    left_join(., df_list$basic_statistics[, c(\"ref\", \"Sequence length\", \"group\")], by = \"ref\") %>%\n",
    "    rename(seqlen = \"Sequence length\",\n",
    "           perc = `1`) %>%\n",
    "    mutate(perc = as.numeric(perc)) %>%\n",
    "    ggplot(aes(factor(group), perc)) +\n",
    "    # specifies the ends of the boxplot as errorbars\n",
    "    stat_boxplot(geom = \"errorbar\", width = 0.4) +\n",
    "    geom_boxplot(fill = \"#e6e6e6\",\n",
    "                 outlier.size = 0.5) + \n",
    "    scale_y_continuous(limits = c(0, 100)) +\n",
    "    labs(x = \"Group\",\n",
    "         y = \"Total percentage of deduplicated reads\",\n",
    "         title = \"Total deduplicated percentage\") +\n",
    "    theme_classic()"
   ]
  },
  {
   "cell_type": "markdown",
   "metadata": {},
   "source": [
    "### Per base mean sequence quality\n",
    "##### This plot presents the per base mean sequence quality for all reads in each group. The green line depicts the \"good quality\" limit of the phred-score 28. As before, the X-axis represents the position in each read."
   ]
  },
  {
   "cell_type": "code",
   "execution_count": 13,
   "metadata": {},
   "outputs": [
    {
     "data": {},
     "metadata": {},
     "output_type": "display_data"
    },
    {
     "data": {
      "image/png": "[encoded data removed]",
      "text/plain": [
       "plot without title"
      ]
     },
     "metadata": {},
     "output_type": "display_data"
    }
   ],
   "source": [
    "df_list$per_base_sequence_quality %>%\n",
    "    # import information from another data frame from same list,\n",
    "    # to get grouping information etc.\n",
    "    left_join(., df_list$basic_statistics[, c(\"ref\", \"Sequence length\", \"group\")], by = \"ref\") %>%\n",
    "    rename(seqlen = \"Sequence length\") %>%\n",
    "    mutate(Base = factor(Base,\n",
    "                         levels = unique(Base),\n",
    "                         ordered = TRUE)) %>%\n",
    "    group_by(group) %>%\n",
    "    mutate(xmax = length(unique(Base)) + 1) %>%\n",
    "    ungroup() %>%\n",
    "    ggplot(aes(Base,\n",
    "               Mean)) +\n",
    "    # specifies the ends of the boxplot as errorbars\n",
    "    stat_boxplot(geom = \"errorbar\", width = 0.4) +\n",
    "    geom_boxplot(outlier.size = 0.4,\n",
    "                 fill = \"#7f7f7f\") +\n",
    "    geom_hline(aes(yintercept = 28),\n",
    "               color = \"green\") +\n",
    "    labs(x = \"Position in read\",\n",
    "         y = \"Sequence quality\",\n",
    "         title = \"Per base mean sequence quality\") +\n",
    "    scale_y_continuous(limits = c(0, 42)) +\n",
    "    theme_classic() +\n",
    "    theme(axis.text.x = element_blank(),\n",
    "          axis.ticks.x = element_blank()) +\n",
    "    # creates separate windows for each group\n",
    "    facet_wrap(~ group, scales = \"free\", dir = \"v\")"
   ]
  }
 ],
 "metadata": {
  "kernelspec": {
   "display_name": "R",
   "language": "R",
   "name": "ir"
  },
  "language_info": {
   "codemirror_mode": "r",
   "file_extension": ".r",
   "mimetype": "text/x-r-source",
   "name": "R",
   "pygments_lexer": "r",
   "version": "3.4.3"
  }
 },
 "nbformat": 4,
 "nbformat_minor": 2
}
